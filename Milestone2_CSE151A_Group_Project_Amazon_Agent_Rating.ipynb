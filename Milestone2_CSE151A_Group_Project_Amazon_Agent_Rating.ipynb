{
  "cells": [
    {
      "cell_type": "markdown",
      "metadata": {
        "id": "view-in-github",
        "colab_type": "text"
      },
      "source": [
        "<a href=\"https://colab.research.google.com/github/AlexPazCodesUCSD/CSE151AGroupProject/blob/main/Milestone2_CSE151A_Group_Project_Amazon_Agent_Rating.ipynb\" target=\"_parent\"><img src=\"https://colab.research.google.com/assets/colab-badge.svg\" alt=\"Open In Colab\"/></a>"
      ]
    },
    {
      "cell_type": "code",
      "execution_count": null,
      "metadata": {
        "id": "Sh3YW7M4cDzH",
        "colab": {
          "base_uri": "https://localhost:8080/"
        },
        "outputId": "d1cd5db3-4430-4a42-9e2c-c3f88faa7754"
      },
      "outputs": [
        {
          "output_type": "stream",
          "name": "stdout",
          "text": [
            "Requirement already satisfied: pandas in /usr/local/lib/python3.10/dist-packages (2.0.3)\n",
            "Requirement already satisfied: python-dateutil>=2.8.2 in /usr/local/lib/python3.10/dist-packages (from pandas) (2.8.2)\n",
            "Requirement already satisfied: pytz>=2020.1 in /usr/local/lib/python3.10/dist-packages (from pandas) (2023.4)\n",
            "Requirement already satisfied: tzdata>=2022.1 in /usr/local/lib/python3.10/dist-packages (from pandas) (2024.1)\n",
            "Requirement already satisfied: numpy>=1.21.0 in /usr/local/lib/python3.10/dist-packages (from pandas) (1.25.2)\n",
            "Requirement already satisfied: six>=1.5 in /usr/local/lib/python3.10/dist-packages (from python-dateutil>=2.8.2->pandas) (1.16.0)\n",
            "Requirement already satisfied: numpy in /usr/local/lib/python3.10/dist-packages (1.25.2)\n",
            "Requirement already satisfied: matplotlib in /usr/local/lib/python3.10/dist-packages (3.7.1)\n",
            "Requirement already satisfied: contourpy>=1.0.1 in /usr/local/lib/python3.10/dist-packages (from matplotlib) (1.2.1)\n",
            "Requirement already satisfied: cycler>=0.10 in /usr/local/lib/python3.10/dist-packages (from matplotlib) (0.12.1)\n",
            "Requirement already satisfied: fonttools>=4.22.0 in /usr/local/lib/python3.10/dist-packages (from matplotlib) (4.53.1)\n",
            "Requirement already satisfied: kiwisolver>=1.0.1 in /usr/local/lib/python3.10/dist-packages (from matplotlib) (1.4.5)\n",
            "Requirement already satisfied: numpy>=1.20 in /usr/local/lib/python3.10/dist-packages (from matplotlib) (1.25.2)\n",
            "Requirement already satisfied: packaging>=20.0 in /usr/local/lib/python3.10/dist-packages (from matplotlib) (24.1)\n",
            "Requirement already satisfied: pillow>=6.2.0 in /usr/local/lib/python3.10/dist-packages (from matplotlib) (9.4.0)\n",
            "Requirement already satisfied: pyparsing>=2.3.1 in /usr/local/lib/python3.10/dist-packages (from matplotlib) (3.1.2)\n",
            "Requirement already satisfied: python-dateutil>=2.7 in /usr/local/lib/python3.10/dist-packages (from matplotlib) (2.8.2)\n",
            "Requirement already satisfied: six>=1.5 in /usr/local/lib/python3.10/dist-packages (from python-dateutil>=2.7->matplotlib) (1.16.0)\n"
          ]
        }
      ],
      "source": [
        "# Run to install all the necessary packages for the project\n",
        "\n",
        "%pip install pandas\n",
        "%pip install numpy\n",
        "%pip install matplotlib\n",
        "%pip install seaborn\n",
        "%pip install scikit-learn\n",
        "\n",
        "# Install more packages using %pip as needed"
      ]
    },
    {
      "cell_type": "code",
      "execution_count": null,
      "metadata": {
        "id": "SbzXBRo5jP6J"
      },
      "outputs": [],
      "source": [
        "# Loading the necessary packages\n",
        "\n",
        "import pandas as pd\n",
        "import numpy as np\n",
        "import matplotlib.pyplot as plt\n",
        "import seaborn as sns\n",
        "from geopy.distance import geodesic\n",
        "\n",
        "# Add more packages as needed"
      ]
    },
    {
      "cell_type": "markdown",
      "metadata": {
        "id": "14LsGbhajP6J"
      },
      "source": [
        "## Data Link\n",
        "[Kaggle](https://www.kaggle.com/datasets/sujalsuthar/amazon-delivery-dataset)\n",
        "[Github](https://github.com/AlexPazCodesUCSD/CSE151AGroupProject/blob/main/amazon_delivery.csv)"
      ]
    },
    {
      "cell_type": "code",
      "execution_count": null,
      "metadata": {
        "id": "t3CtxPQ5jP6J"
      },
      "outputs": [],
      "source": [
        "# Data Download into Google Colab\n",
        "\n",
        "!wget https://raw.githubusercontent.com/AlexPazCodesUCSD/CSE151AGroupProject/main/amazon_delivery.csv\n",
        "\n",
        "# Run only once, you can see the file by clicking the file icon on the leftside of the colab notebook"
      ]
    },
    {
      "cell_type": "code",
      "source": [
        "# Loading Data\n",
        "\n",
        "data = pd.read_csv('amazon_delivery.csv')\n",
        "\n",
        "data.head()"
      ],
      "metadata": {
        "id": "YVu7zc8mkQXE"
      },
      "execution_count": null,
      "outputs": []
    },
    {
      "cell_type": "markdown",
      "source": [
        "# Data Clean Up"
      ],
      "metadata": {
        "id": "58f6OVxQpIEE"
      }
    },
    {
      "cell_type": "code",
      "source": [
        "# The initial dimensions of the dataset\n",
        "initial_dimensions = data.shape\n",
        "\n",
        "# Identify columns with missing values and count the number of missing values in each\n",
        "missing_values = data.isnull().sum()\n",
        "columns_with_missing_values = missing_values[missing_values > 0]\n",
        "\n",
        "# Print out the columns with missing values and the count of missing values in each\n",
        "print(\"Columns with missing values and the count of missing values:\")\n",
        "print(columns_with_missing_values)\n",
        "\n",
        "# Cleaning the data by dropping rows with missing values\n",
        "cleaned_data = data.dropna()\n",
        "\n",
        "# The dimensions of the cleaned dataset\n",
        "cleaned_dimensions = cleaned_data.shape\n",
        "\n",
        "# Print out the dimensions\n",
        "print(f\"Initial Data Dimensions: # of observations = {initial_dimensions[0]}\")\n",
        "print(f\"Cleaned Data Dimensions: # of observations = {cleaned_dimensions[0]}\")\n",
        "\n",
        "data = cleaned_data"
      ],
      "metadata": {
        "id": "NdmTN3yRpTd_"
      },
      "execution_count": null,
      "outputs": []
    },
    {
      "cell_type": "markdown",
      "source": [
        "## Creating More Features \\(Data Preprocessing\\)"
      ],
      "metadata": {
        "id": "7KzFsr2Gt18Q"
      }
    },
    {
      "cell_type": "code",
      "source": [
        "# Function to calculate distance in miles between store and drop-off locations\n",
        "def calculate_distance(row):\n",
        "    store_location = (row['Store_Latitude'], row['Store_Longitude'])\n",
        "    drop_location = (row['Drop_Latitude'], row['Drop_Longitude'])\n",
        "    return geodesic(store_location, drop_location).miles\n",
        "\n",
        "# Function to determine the delivery season based on the month\n",
        "def get_season(date):\n",
        "    month = date.month\n",
        "    if month in [12, 1, 2]:\n",
        "        return 'Winter'\n",
        "    elif month in [3, 4, 5]:\n",
        "        return 'Spring'\n",
        "    elif month in [6, 7, 8]:\n",
        "        return 'Summer'\n",
        "    elif month in [9, 10, 11]:\n",
        "        return 'Fall'\n",
        "\n",
        "# Convert Order_Date, Order_Time, and Pickup_Time to appropriate datetime formats\n",
        "data['Order_Date'] = pd.to_datetime(data['Order_Date'], format='%Y-%m-%d')\n",
        "data['Order_Time'] = pd.to_datetime(data['Order_Time'], format='%H:%M:%S').dt.time\n",
        "data['Pickup_Time'] = pd.to_datetime(data['Pickup_Time'], format='%H:%M:%S').dt.time\n",
        "\n",
        "\n",
        "data['Distance_Miles'] = data.apply(calculate_distance, axis=1)\n",
        "data['Delivery_Season'] = data['Order_Date'].apply(get_season)\n",
        "\n",
        "# Add more if desired\n",
        "\n",
        "data.head()"
      ],
      "metadata": {
        "id": "28zHUL2ft_uH"
      },
      "execution_count": null,
      "outputs": []
    },
    {
      "cell_type": "markdown",
      "source": [
        "# Dataset Column Descriptions and Statistics\n",
        "\n",
        "1. **Order_ID**: Unique identifier for each order.\n",
        "2. **Agent_Age**: Age of the delivery agent.\n",
        "3. **Agent_Rating**: Rating of the delivery agent.\n",
        "4. **Store_Latitude**: Latitude of the store location.\n",
        "5. **Store_Longitude**: Longitude of the store location.\n",
        "6. **Drop_Latitude**: Latitude of the drop-off location.\n",
        "7. **Drop_Longitude**: Longitude of the drop-off location.\n",
        "8. **Order_Date**: Date of the order.\n",
        "9. **Order_Time**: Time of the order.\n",
        "10. **Pickup_Time**: Time the order was picked up.\n",
        "11. **Weather**: Weather conditions during delivery.\n",
        "12. **Traffic**: Traffic conditions during delivery.\n",
        "13. **Vehicle**: Type of vehicle used for delivery.\n",
        "14. **Area**: Area type (e.g., Urban, Metropolitan).\n",
        "15. **Delivery_Time**: Time taken for delivery (in minutes).\n",
        "16. **Category**: Category of the delivered item.\n",
        "17. **Distance_Miles**: Distance in miles between the store and the drop-off location, calculated using latitude and longitude.\n",
        "18. **Delivery_Season**: The season during which the delivery was made, derived from the order date.\n"
      ],
      "metadata": {
        "id": "TCAlRuDWv5bW"
      }
    },
    {
      "cell_type": "code",
      "source": [
        "# Function to analyze and provide information on each column\n",
        "def analyze_column(data, column_name):\n",
        "    col_data = data[column_name]\n",
        "    col_info = {}\n",
        "\n",
        "    # Check if the column is numerical\n",
        "    if pd.api.types.is_numeric_dtype(col_data):\n",
        "        if \"latitude\" in column_name.lower() or \"longitude\" in column_name.lower():\n",
        "            col_info['type'] = 'Geographical coordinates'\n",
        "            col_info['description'] = 'Latitude and longitude values should not be analyzed statistically.'\n",
        "        else:\n",
        "            col_info['type'] = 'Numerical'\n",
        "            col_info['statistics'] = col_data.describe().to_dict()\n",
        "\n",
        "    # Check if the column is categorical\n",
        "    elif pd.api.types.is_string_dtype(col_data):\n",
        "        if column_name.lower() == 'order_id':\n",
        "            col_info['type'] = 'Unique identifier'\n",
        "            col_info['description'] = 'Unique ID for each order.'\n",
        "        else:\n",
        "            col_info['type'] = 'Categorical'\n",
        "            col_info['unique_values'] = col_data.nunique()\n",
        "            col_info['categories'] = col_data.value_counts().to_dict()\n",
        "\n",
        "    # Check if the column is datetime\n",
        "    elif pd.api.types.is_datetime64_any_dtype(col_data):\n",
        "        col_info['type'] = 'Datetime'\n",
        "        col_info['description'] = 'Datetime values for orders and pickups.'\n",
        "\n",
        "    # Check if the column is time\n",
        "    elif pd.api.types.is_object_dtype(col_data) and column_name.lower().endswith('_time'):\n",
        "        col_info['type'] = 'Time'\n",
        "        col_info['description'] = 'Time values for orders and pickups.'\n",
        "\n",
        "    else:\n",
        "        col_info['type'] = 'Other'\n",
        "        col_info['description'] = 'Other type of data.'\n",
        "\n",
        "    return col_info\n",
        "\n",
        "column_analysis = {}\n",
        "for column in data.columns:\n",
        "    column_analysis[column] = analyze_column(data, column)\n",
        "\n",
        "for column, analysis in column_analysis.items():\n",
        "    print(f\"Column: {column}\")\n",
        "    for key, value in analysis.items():\n",
        "        print(f\"  {key}: {value}\")\n",
        "    print()\n",
        "\n",
        "\n",
        "print(\"First few rows of the updated dataset:\")\n",
        "data.head()\n"
      ],
      "metadata": {
        "id": "T_R4W20Nwmym"
      },
      "execution_count": null,
      "outputs": []
    },
    {
      "cell_type": "code",
      "source": [
        "# Perform data exploration steps on the data. With this data we eventually plan on predicting the agent ratings\n",
        "\n",
        "import matplotlib.pyplot as plt\n",
        "import seaborn as sns # Import seaborn for plotting\n",
        "\n",
        "# Distribution of Delivery Time\n",
        "plt.figure(figsize=(10, 6))\n",
        "sns.histplot(data['Delivery_Time'], kde=True)\n",
        "plt.title('Distribution of Delivery Time')\n",
        "plt.xlabel('Delivery Time (minutes)')\n",
        "plt.ylabel('Frequency')\n",
        "plt.show()\n",
        "\n",
        "# Relationship between Delivery Time and Agent Rating\n",
        "plt.figure(figsize=(10, 6))\n",
        "sns.scatterplot(x='Agent_Rating', y='Delivery_Time', data=data)\n",
        "plt.title('Delivery Time vs. Agent Rating')\n",
        "plt.xlabel('Agent Rating')\n",
        "plt.ylabel('Delivery Time (minutes)')\n",
        "plt.show()\n",
        "\n",
        "# Impact of Weather on Delivery Time\n",
        "plt.figure(figsize=(10, 6))\n",
        "sns.boxplot(x='Weather', y='Delivery_Time', data=data)\n",
        "plt.title('Impact of Weather on Delivery Time')\n",
        "plt.xlabel('Weather')\n",
        "plt.ylabel('Delivery Time (minutes)')\n",
        "plt.show()\n",
        "\n",
        "# Distribution of Agent Ratings\n",
        "plt.figure(figsize=(10, 6))\n",
        "sns.countplot(x='Agent_Rating', data=data)\n",
        "plt.title('Distribution of Agent Ratings')\n",
        "plt.xlabel('Agent Rating')\n",
        "plt.ylabel('Count')\n",
        "plt.show()\n",
        "\n",
        "# Select only numerical columns for correlation\n",
        "numerical_data = data.select_dtypes(include=['float', 'int'])\n",
        "\n",
        "# Correlation Heatmap\n",
        "plt.figure(figsize=(12, 8))\n",
        "corr_matrix = numerical_data.corr() # Calculate correlation on numerical data\n",
        "sns.heatmap(corr_matrix, annot=True, cmap='coolwarm')\n",
        "plt.title('Correlation Heatmap')\n",
        "plt.show()\n"
      ],
      "metadata": {
        "id": "z_5LrR1wAFfD"
      },
      "execution_count": null,
      "outputs": []
    },
    {
      "cell_type": "code",
      "source": [
        "import pandas as pd\n",
        "import matplotlib.pyplot as plt\n",
        "# Further Data Exploration and Preprocessing\n",
        "\n",
        "# 1. Time-based Features:\n",
        "\n",
        "# Extract hour of the day from Order_Time and Pickup_Time\n",
        "data['Order_Hour'] = pd.to_datetime(data['Order_Time'], format='%H:%M:%S').dt.hour\n",
        "data['Pickup_Hour'] = pd.to_datetime(data['Pickup_Time'], format='%H:%M:%S').dt.hour\n",
        "\n",
        "# Create a feature for time elapsed between order and pickup\n",
        "data['Order_Pickup_Time_Diff'] = (pd.to_datetime(data['Pickup_Time'], format='%H:%M:%S') -\n",
        "                                   pd.to_datetime(data['Order_Time'], format='%H:%M:%S')).dt.total_seconds() / 60\n",
        "\n",
        "# 2. Categorical Feature Encoding:\n",
        "\n",
        "# Check if the columns exist before one-hot encoding\n",
        "if all(col in data.columns for col in ['Weather', 'Traffic', 'Vehicle', 'Area', 'Category']):\n",
        "    data = pd.get_dummies(data, columns=['Weather', 'Traffic', 'Vehicle', 'Area', 'Category'])\n",
        "else:\n",
        "    print(\"Warning: One or more categorical columns not found. Skipping one-hot encoding.\")\n",
        "\n",
        "# 3. Outlier Detection and Handling:\n",
        "\n",
        "# Visualize the distribution of Delivery_Time to identify potential outliers\n",
        "plt.figure(figsize=(10, 6))\n",
        "sns.boxplot(data['Delivery_Time'])\n",
        "plt.title('Boxplot of Delivery Time')\n",
        "plt.show()\n",
        "\n",
        "# using IQR to handle outliers:\n",
        "Q1 = data['Delivery_Time'].quantile(0.25)\n",
        "Q3 = data['Delivery_Time'].quantile(0.75)\n",
        "IQR = Q3 - Q1\n",
        "lower_bound = Q1 - 1.5 * IQR\n",
        "upper_bound = Q3 + 1.5 * IQR\n",
        "# data = data[(data['Delivery_Time'] >= lower_bound) & (data['Delivery_Time'] <= upper_bound)]\n",
        "\n",
        "# 4. Feature Scaling:\n",
        "\n",
        "# Standardize or normalize numerical features (Agent_Age, Agent_Rating, Distance_Miles, etc.)\n",
        "# to ensure they have a similar scale, which can improve model performance.\n",
        "from sklearn.preprocessing import StandardScaler\n",
        "scaler = StandardScaler()\n",
        "numerical_features = ['Agent_Age', 'Agent_Rating', 'Distance_Miles', 'Order_Hour', 'Pickup_Hour', 'Order_Pickup_Time_Diff']\n",
        "data[numerical_features] = scaler.fit_transform(data[numerical_features])\n",
        "\n",
        "# 5. Additional Visualizations:\n",
        "\n",
        "# Explore relationships between other features and Delivery_Time:\n",
        "\n",
        "# - Scatter plots for numerical features\n",
        "plt.figure(figsize=(10, 6))\n",
        "sns.scatterplot(x='Distance_Miles', y='Delivery_Time', data=data)\n",
        "plt.title('Distance vs Delivery Time')\n",
        "plt.xlabel('Distance (Miles)')\n",
        "plt.ylabel('Delivery Time (minutes)')\n",
        "plt.show()\n",
        "\n",
        "# - Boxplots or violin plots for categorical features\n",
        "plt.figure(figsize=(10, 6))\n",
        "sns.boxplot(x='Delivery_Season', y='Delivery_Time', data=data)\n",
        "plt.title('Delivery Season vs Delivery Time')\n",
        "plt.xlabel('Delivery Season')\n",
        "plt.ylabel('Delivery Time (minutes)')\n",
        "plt.show()\n",
        "\n",
        "# - Pair plots to visualize relationships between multiple variables\n",
        "sns.pairplot(data[['Agent_Age', 'Agent_Rating', 'Distance_Miles', 'Delivery_Time']])\n",
        "plt.show()\n",
        "\n",
        "# 6. Feature Engineering:\n",
        "\n",
        "# Day of the week and weekend indicator\n",
        "data['Day_of_Week'] = data['Order_Date'].dt.dayofweek # Monday=0, Sunday=6\n",
        "data['Is_Weekend'] = data['Day_of_Week'].apply(lambda x: 1 if x >= 5 else 0)\n",
        "\n",
        "\n",
        "\n"
      ],
      "metadata": {
        "id": "lURKvF1QEZ9i"
      },
      "execution_count": null,
      "outputs": []
    },
    {
      "cell_type": "code",
      "source": [
        "\n"
      ],
      "metadata": {
        "id": "MlcTn52KTxsu"
      },
      "execution_count": null,
      "outputs": []
    }
  ],
  "metadata": {
    "colab": {
      "provenance": [],
      "include_colab_link": true
    },
    "kernelspec": {
      "display_name": "Python 3",
      "name": "python3"
    },
    "language_info": {
      "codemirror_mode": {
        "name": "ipython",
        "version": 3
      },
      "file_extension": ".py",
      "mimetype": "text/x-python",
      "name": "python",
      "nbconvert_exporter": "python",
      "pygments_lexer": "ipython3",
      "version": "3.10.7"
    }
  },
  "nbformat": 4,
  "nbformat_minor": 0
}